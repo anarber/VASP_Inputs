{
 "cells": [
  {
   "cell_type": "code",
   "execution_count": null,
   "metadata": {},
   "outputs": [],
   "source": [
    "from pymatgen.core import Structure\n",
    "from pymatgen.io.vasp import Poscar"
   ]
  },
  {
   "cell_type": "code",
   "execution_count": null,
   "metadata": {},
   "outputs": [],
   "source": [
    "# pick cif\n",
    "struct = Structure.from_file('/path/to/structure.cif')\n",
    "# adjust dimensions to desired supercell size\n",
    "struct.make_supercell([1,1,1]) \n",
    "poscar = Poscar(structure=struct)\n",
    "# write poscar to file\n",
    "poscar.write_file(filename='/path/to/gCsPbBr3_62.vasp') # the .vasp ending allows vesta to read the file even if it is not named POSCAR"
   ]
  }
 ],
 "metadata": {
  "kernelspec": {
   "display_name": "pymatgen",
   "language": "python",
   "name": "python3"
  },
  "language_info": {
   "name": "python",
   "version": "3.9.15"
  },
  "orig_nbformat": 4
 },
 "nbformat": 4,
 "nbformat_minor": 2
}
