{
 "cells": [
  {
   "cell_type": "code",
   "execution_count": 15,
   "metadata": {},
   "outputs": [],
   "source": [
    "# open file created by adding ML_ABN structures to a single file (do not include multiple headers)\n",
    "# this script only adjusts the configuration numbers and total number of configurations in the header\n",
    "# any changes to the max number of atoms/elements/types etc need to be manually adjusted\n",
    "\n",
    "with open('./ML_ABN', 'r') as file:\n",
    "    cat_ML_AB = file.read()\n",
    "lines_ML_AB = cat_ML_AB.splitlines()"
   ]
  },
  {
   "cell_type": "code",
   "execution_count": 16,
   "metadata": {},
   "outputs": [],
   "source": [
    "index = 0\n",
    "config = 0\n",
    "for line in lines_ML_AB:\n",
    "    string = line.split()\n",
    "    if len(string) == 3 and string[1] == 'num.':\n",
    "        config += 1\n",
    "        lines_ML_AB[index] = \"     Configuration num.      \"+str(config)\n",
    "    index += 1\n",
    "lines_ML_AB[4] = \"     \"+str(config)"
   ]
  },
  {
   "cell_type": "code",
   "execution_count": 17,
   "metadata": {},
   "outputs": [],
   "source": [
    "with open('./ML/PBESol/parallel/ML_AB_edited', 'a') as file:\n",
    "    for line in lines_ML_AB:\n",
    "        file.write(str(line)+'\\n')"
   ]
  }
 ],
 "metadata": {
  "kernelspec": {
   "display_name": "pymatgen_env",
   "language": "python",
   "name": "python3"
  },
  "language_info": {
   "codemirror_mode": {
    "name": "ipython",
    "version": 3
   },
   "file_extension": ".py",
   "mimetype": "text/x-python",
   "name": "python",
   "nbconvert_exporter": "python",
   "pygments_lexer": "ipython3",
   "version": "3.10.8"
  },
  "orig_nbformat": 4
 },
 "nbformat": 4,
 "nbformat_minor": 2
}
