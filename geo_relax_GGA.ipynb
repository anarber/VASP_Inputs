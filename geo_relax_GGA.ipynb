{
 "cells": [
  {
   "cell_type": "code",
   "execution_count": 9,
   "metadata": {},
   "outputs": [],
   "source": [
    "from pymatgen.core import Structure\n",
    "from pymatgen.io.vasp.sets import MPStaticSet\n",
    "import os"
   ]
  },
  {
   "cell_type": "code",
   "execution_count": 10,
   "metadata": {},
   "outputs": [],
   "source": [
    "base_path = '/path/to/folder'\n",
    "POSCAR_path = base_path + '/POSCAR'\n",
    "strc = Structure.from_file(POSCAR_path)"
   ]
  },
  {
   "cell_type": "code",
   "execution_count": 11,
   "metadata": {},
   "outputs": [],
   "source": [
    "INCAR_settings = \"\"\"\n",
    "#Start \n",
    "# ISTART = 0 \n",
    "# ICHARG = 0 \n",
    "# INIWAV = 1 \n",
    " \n",
    "#Symmetry \n",
    "# ISYM = 0 \n",
    "# SYMPREC = 1.00e-04 \n",
    "\n",
    "#Parallelisation\n",
    "NCORE = 4\n",
    "\n",
    "#Ionic \n",
    "IBRION = 1 \n",
    "ISIF = 3 \n",
    "NSW = 1000 \n",
    "\n",
    "#Electronic \n",
    "ENCUT = 500 \n",
    "ISMEAR = 0 \n",
    "SIGMA = 0.01  \n",
    "KSPACING = 0.1 \n",
    "EDIFF = 0.0001 \n",
    "EDIFFG = -0.01 \n",
    "PREC = Normal \n",
    "GGA = Pe\n",
    "NELM = 200 \n",
    "LREAL = .FALSE. \n",
    "ALGO = Normal \n",
    "LORBIT = 10 \n",
    "# ADDGRID = .TRUE. \n",
    "\n",
    "#Exact exchange \n",
    "# LHFCALC = .TRUE. \n",
    "# HFSCREEN = 0.207 \n",
    "# AEXX = 0.25 \n",
    "# TIME = 0.4 \n",
    "# LDIAG = .TRUE. \n",
    "# PRECFOCK = Accurate \n",
    "\n",
    "#DFT+U \n",
    "# LDAU = .TRUE. \n",
    "# LDAUTYPE  = 2 \n",
    "# LDAUL     = -1 2 -1 \n",
    "# LDAUU     = 0.0 3.0 0.0 \n",
    "# LMAXMIX = 4 \n",
    "\n",
    "#vdW \n",
    "# IVDW = 11 \n",
    "\n",
    "#Spin \n",
    "# ISPIN = 2 \n",
    "# MAGMOM =  4*0 5 -5 5 -5  8*0 \n",
    "# NUPDOWN = 0 \n",
    "\"\"\""
   ]
  },
  {
   "cell_type": "code",
   "execution_count": 12,
   "metadata": {},
   "outputs": [],
   "source": [
    "inputs = MPStaticSet(strc, user_potcar_functional='PBE_54')"
   ]
  },
  {
   "cell_type": "code",
   "execution_count": 13,
   "metadata": {},
   "outputs": [],
   "source": [
    "inputs.write_input(base_path)\n",
    "KPOINTS_PATH = base_path + '/KPOINTS'\n",
    "os.remove(KPOINTS_PATH)"
   ]
  },
  {
   "cell_type": "code",
   "execution_count": 14,
   "metadata": {},
   "outputs": [],
   "source": [
    "INCAR_path = base_path + '/INCAR'\n",
    "with open(INCAR_path, \"w\") as f:\n",
    "    f.write(INCAR_settings)\n",
    "f.close()"
   ]
  }
 ],
 "metadata": {
  "kernelspec": {
   "display_name": "pymatgen",
   "language": "python",
   "name": "python3"
  },
  "language_info": {
   "codemirror_mode": {
    "name": "ipython",
    "version": 3
   },
   "file_extension": ".py",
   "mimetype": "text/x-python",
   "name": "python",
   "nbconvert_exporter": "python",
   "pygments_lexer": "ipython3",
   "version": "3.10.6"
  },
  "orig_nbformat": 4,
  "vscode": {
   "interpreter": {
    "hash": "f0fcbadf9c31fc3fb3c46e835cc06fbafdcfa98e3f090c0176d2af7ab8581128"
   }
  }
 },
 "nbformat": 4,
 "nbformat_minor": 2
}
