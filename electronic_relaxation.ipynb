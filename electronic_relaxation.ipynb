from pymatgen.core import Structure
from pymatgen.io.vasp.sets import MPStaticSet
from pymatgen.io.vasp import Kpoints

# select structure file
strc = Structure.from_file('./POSCAR')

# specify parameters for a GGA geometry optimisation
custom_settings = {
    'ALGO': 'Normal',
    'EDIFF': 0.0001,
    'EDIFFG': -0.01,
    'ENCUT': 500,
    'GGA': 'Pe',
    'IBRION': -1,
    'ICHARG': 1,
    'ISIF': 3,
    'ISMEAR': 0,
    'ISPIN': 2,
    'ISTART': 0,
    'ISYM': -1,
    'LAECHG': 'False',
    'LASPH': 'True',
    'LCHARG': 'True',
    'LMAXMIX': 2,
    'LORBIT': 10,
    'LREAL': 'Auto',
    'LVHAR': 'False',
    'LWAVE': 'True',
    'NCORE': 16,
    'NELM': 200,
    'NSW': 0,
    'POTIM': 0.1,
    'PREC': 'Normal',
    'SIGMA': 0.01

# uncomment lines below for a hydrid functional (HSE06)
# check for duplicate entries from above section for PREC and GGA
    #'PREC': 'Accurate',
    #'LHFCALC': '.TRUE.',
    #'GGA': 'Pe',
    #'HFSCREEN': 0.2,
    # AEXX = 0.25
}

# gamma point KPOINT mesh
kpoints = Kpoints(kpts=((10,10,10),))

# write inputs using MPStaticSet basis
inputs = MPStaticSet(strc, potcar_functional='PBE_54', user_incar_settings=custom_settings, user_kpoints_settings=kpoints)

# write inputs to file
inputs.write_input('./')
